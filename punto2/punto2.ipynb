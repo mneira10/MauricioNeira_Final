{
 "cells": [
  {
   "cell_type": "code",
   "execution_count": 9,
   "metadata": {},
   "outputs": [
    {
     "name": "stderr",
     "output_type": "stream",
     "text": [
      "/home/mauro/anaconda3/lib/python3.6/importlib/_bootstrap.py:219: RuntimeWarning: numpy.dtype size changed, may indicate binary incompatibility. Expected 96, got 88\n",
      "  return f(*args, **kwds)\n"
     ]
    }
   ],
   "source": [
    "import numpy as np\n",
    "import matplotlib.pyplot as plt\n",
    "from scipy.integrate import solve_ivp\n"
   ]
  },
  {
   "cell_type": "code",
   "execution_count": 2,
   "metadata": {},
   "outputs": [],
   "source": [
    "data = np.loadtxt('datos_observacionales.dat')"
   ]
  },
  {
   "cell_type": "code",
   "execution_count": 20,
   "metadata": {},
   "outputs": [],
   "source": [
    "def dx(x,y,z,s,b,r):\n",
    "    return s*(y-x)\n",
    "def dy(x,y,z,s,b,r):\n",
    "    return x*(r-z)-y\n",
    "def dz(x,y,z,s,b,r):\n",
    "    return x*y-b*z\n",
    "\n",
    "def model(s,b,r):\n",
    "    x= data[:,1][0]\n",
    "    y= data[:,2][0]\n",
    "    z= data[:,3][0]\n",
    "    dt = 0.01\n",
    "    t_here = 0 \n",
    "    xs=[x]\n",
    "    ys=[y]\n",
    "    zs=[z]\n",
    "    for i in range(int(3.0/dt)+1):\n",
    "        x = x + dx(x,y,z,s,b,r)*dt\n",
    "        y = y + dy(x,y,z,s,b,r)*dt\n",
    "        z = z + dz(x,y,z,s,b,r)*dt\n",
    "        t_here+=dt\n",
    "        if(t_here%0.1 ==1):\n",
    "            xs.append(x)\n",
    "            ys.append(y)\n",
    "            zs.append(z)\n",
    "        \n",
    "    xs = np.array(xs)\n",
    "    ys = np.array(ys)\n",
    "    zs = np.array(zs)\n",
    "    return xs,ys,zs\n",
    "\n",
    "def loglikelihood(s, b, r):\n",
    "    x_obs= data[:,1]\n",
    "    y_obs= data[:,2]\n",
    "    z_obs= data[:,3]\n",
    "    \n",
    "    xm,ym,zm = model(s,b,r)\n",
    "    \n",
    "    dx = x_obs -  xm\n",
    "    dx = -0.5 * np.sum(dx**2)\n",
    "    \n",
    "    dy = y_obs -  ym\n",
    "    dy = -0.5 * np.sum(dy**2)\n",
    "    \n",
    "    dz = z_obs -  zm\n",
    "    dz = -0.5 * np.sum(dz**2)\n",
    "    \n",
    "    \n",
    "    return dx+dy+dz\n",
    "\n",
    "def logprior(s,b,r):\n",
    "    p = -np.inf\n",
    "    if s < 30 and s >0 and b >0 and b<30 and r < 30 and r>0:\n",
    "        p = 0.0\n",
    "    return p"
   ]
  },
  {
   "cell_type": "code",
   "execution_count": 81,
   "metadata": {},
   "outputs": [],
   "source": [
    "# def pdf_to_sample(q, sigma):\n",
    "#     return exp(-0.5*q**2/sigma**2)\n",
    "ds = 0.1\n",
    "db=0.1\n",
    "dr=0.1\n",
    "\n",
    "def log_pdf_to_sample(s,b,r):\n",
    "    return loglikelihood(s,b,r)+logprior(r,b,r)\n",
    "\n",
    "def gradient_log_pdf_to_samples(s,b,r):\n",
    "    \n",
    "    return (log_pdf_to_sample(s+ds,b,r)-log_pdf_to_sample(s,b,r))/ds\n",
    "\n",
    "def gradient_log_pdf_to_sampleb(s,b,r):\n",
    "    \n",
    "    return (log_pdf_to_sample(s,b+db,r)-log_pdf_to_sample(s,b,r))/db\n",
    "\n",
    "def gradient_log_pdf_to_sampler(s,b,r):\n",
    "    \n",
    "    return (log_pdf_to_sample(s,b,r+dr)-log_pdf_to_sample(s,b,r))/dr\n",
    "\n",
    "def leapfrogs(s,b,r,ps,pb,pr, delta_t=1E-3, niter=5):\n",
    "    s_new = s\n",
    "    p_new = ps\n",
    "    for i in range(niter):\n",
    "        p_new = p_new + 0.5 * delta_t * gradient_log_pdf_to_samples(s_new,b,r) #kick\n",
    "        s_new = s_new + delta_t * p_new #drift\n",
    "        p_new = p_new + 0.5 * delta_t * gradient_log_pdf_to_samples(s_new,b,r) #kick\n",
    "    return s_new, p_new\n",
    "\n",
    "def leapfrogb(s,b,r,ps,pb,pr, delta_t=1E-3, niter=5):\n",
    "    b_new = b\n",
    "    p_new = pb\n",
    "    for i in range(niter):\n",
    "        p_new = p_new + 0.5 * delta_t * gradient_log_pdf_to_sampleb(s,b_new,r) #kick\n",
    "        b_new = b_new + delta_t * p_new #drift\n",
    "        p_new = p_new + 0.5 * delta_t * gradient_log_pdf_to_sampleb(s,b_new,r) #kick\n",
    "    return b_new, p_new\n",
    "\n",
    "def leapfrogr(s,b,r,ps,pb,pr, delta_t=1E-3, niter=5):\n",
    "    r_new = r\n",
    "    p_new = pr\n",
    "    for i in range(niter):\n",
    "        p_new = p_new + 0.5 * delta_t * gradient_log_pdf_to_sampler(s,b,r_new) #kick\n",
    "        r_new = r_new + delta_t * p_new #drift\n",
    "        p_new = p_new + 0.5 * delta_t * gradient_log_pdf_to_sampler(s,b,r_new) #kick\n",
    "    return r_new, p_new\n",
    "\n",
    "def H(s,b,r,ps,pb,pr):\n",
    "    K = 0.5 * ps * ps +0.5 * pb * pb +0.5 * pr * pr \n",
    "    U = -log_pdf_to_sample(s,b,r)\n",
    "    return K + U\n",
    "\n",
    "def MCMC(nsteps):\n",
    "    s = np.zeros(nsteps)\n",
    "    ps = np.zeros(nsteps)\n",
    "    \n",
    "    b = np.zeros(nsteps)\n",
    "    pb = np.zeros(nsteps)\n",
    "    \n",
    "    r = np.zeros(nsteps)\n",
    "    pr = np.zeros(nsteps)\n",
    "    \n",
    "    ps[0] = np.random.uniform(0,1)\n",
    "    s[0] =  np.random.uniform(0,30)\n",
    "    pb[0] = np.random.uniform(0,1)\n",
    "    b[0] =  np.random.uniform(0,30)\n",
    "    pr[0] = np.random.uniform(0,1)\n",
    "    r[0] =  np.random.uniform(0,30)\n",
    "    \n",
    "    sigma = 0.1\n",
    "    for i in range(1,nsteps):\n",
    "        print(\"\\r\"+str(i*100/nsteps),end=\"\")\n",
    "        \n",
    "        ps[i] = np.random.normal(0,1)\n",
    "        pb[i] = np.random.normal(0,1)\n",
    "        pr[i] = np.random.normal(0,1)\n",
    "        \n",
    "        s_new, ps_new = leapfrogs(s[i-1],b[i-1],r[i-1],ps[i-1],pb[i-1], pr[i-1]) # la propuesta se hace con leapfrog\n",
    "        b_new, pb_new = leapfrogb(s[i-1],b[i-1],r[i-1],ps[i-1],pb[i-1], pr[i-1]) # la propuesta se hace con leapfrog\n",
    "        r_new, pr_new = leapfrogr(s[i-1],b[i-1],r[i-1],ps[i-1],pb[i-1], pr[i-1]) # la propuesta se hace con leapfrog\n",
    "        \n",
    "        ps_new = -ps_new #negamos a p para que la propuesta sea simetrica.\n",
    "        pb_new = -pb_new #negamos a p para que la propuesta sea simetrica.\n",
    "        pr_new = -pr_new #negamos a p para que la propuesta sea simetrica.\n",
    "        \n",
    "        \n",
    "        \n",
    "        E_new = H(s_new,b_new,r_new, ps_new, pb_new, pr_new) # En lugar de evaluar la pdf se evalua la energia.\n",
    "        E_old = H(s[i-1],b[i-1],r[i-1],ps[i-1],pb[i-1], pr[i-1])\n",
    "        alpha = min(1.0,np.exp(-(E_new - E_old))) # Se comparan las dos energias\n",
    "        \n",
    "#         print(i*100/nsteps,s[i-1],b[i-1],r[i-1],alpha)\n",
    "#         print(s_new,b_new,r_new)\n",
    "#         print(ps_new,pb_new,pr_new)\n",
    "        beta = np.random.random()\n",
    "        if beta < alpha:\n",
    "            s[i] = s_new\n",
    "            b[i] = b_new\n",
    "            r[i] = r_new\n",
    "#             print(\"entra\")\n",
    "        else:\n",
    "            s[i] = s[i-1]\n",
    "            b[i] = b[i-1]\n",
    "            r[i] = r[i-1]\n",
    "#             print(\"no entra\")\n",
    "    return s,b,r\n"
   ]
  },
  {
   "cell_type": "code",
   "execution_count": 82,
   "metadata": {},
   "outputs": [
    {
     "name": "stdout",
     "output_type": "stream",
     "text": [
      "99.99"
     ]
    }
   ],
   "source": [
    "s,b,r = MCMC(10000)"
   ]
  },
  {
   "cell_type": "code",
   "execution_count": 88,
   "metadata": {},
   "outputs": [],
   "source": [
    "fig= plt.figure(figsize=(8,20))\n",
    "plt.subplot(3,1,1)\n",
    "plt.hist(s)\n",
    "plt.title(\"Mean: {:.2f} Std:{:.2f}\".format(np.mean(s),np.std(s)))\n",
    "plt.subplot(3,1,2)\n",
    "plt.hist(b)\n",
    "plt.title(\"Mean: {:.2f} Std:{:.2f}\".format(np.mean(b),np.std(b)))\n",
    "plt.subplot(3,1,3)\n",
    "plt.hist(r)\n",
    "plt.title(\"Mean: {:.2f} Std:{:.2f}\".format(np.mean(r),np.std(r)))\n",
    "plt.savefig(\"histograms.png\")\n",
    "plt.close()"
   ]
  },
  {
   "cell_type": "code",
   "execution_count": 89,
   "metadata": {},
   "outputs": [],
   "source": [
    "means = s.mean()\n",
    "meanb = b.mean()\n",
    "meanr = r.mean()\n"
   ]
  },
  {
   "cell_type": "code",
   "execution_count": 113,
   "metadata": {},
   "outputs": [],
   "source": [
    "def model2(s,b,r):\n",
    "    x= data[:,1][0]\n",
    "    y= data[:,2][0]\n",
    "    z= data[:,3][0]\n",
    "    dt = 0.01\n",
    "    t_here = 0 \n",
    "    xs=[x]\n",
    "    ys=[y]\n",
    "    zs=[z]\n",
    "    ts = [0]\n",
    "    print(int(3.0/dt)+1)\n",
    "    for i in range(int(3.0/dt)+1):\n",
    "        x = x + dx(x,y,z,s,b,r)*dt\n",
    "        y = y + dy(x,y,z,s,b,r)*dt\n",
    "        z = z + dz(x,y,z,s,b,r)*dt\n",
    "        t_here+=dt\n",
    "        ts.append(t_here)\n",
    "        xs.append(x)\n",
    "        ys.append(y)\n",
    "        zs.append(z)\n",
    "        \n",
    "    xs = np.array(xs)\n",
    "    ys = np.array(ys)\n",
    "    zs = np.array(zs)\n",
    "#     print(xs)\n",
    "    return xs,ys,zs,ts\n"
   ]
  },
  {
   "cell_type": "code",
   "execution_count": 114,
   "metadata": {},
   "outputs": [
    {
     "name": "stdout",
     "output_type": "stream",
     "text": [
      "301\n"
     ]
    },
    {
     "data": {
      "image/png": "[encoded data removed]",
      "text/plain": [
       "<matplotlib.figure.Figure at 0x7f1e342ddf60>"
      ]
     },
     "metadata": {},
     "output_type": "display_data"
    }
   ],
   "source": [
    "plt.scatter(data[:,0],data[:,1],label='x')\n",
    "plt.scatter(data[:,0],data[:,2],label='y')\n",
    "plt.scatter(data[:,0],data[:,3],label='z')\n",
    "x,y,z,ts = model2(means,meanb,meanr)\n",
    "# print(x)\n",
    "plt.plot(ts,x)\n",
    "plt.plot(ts,y)\n",
    "plt.plot(ts,z)\n",
    "# plt.legend()\n",
    "plt.savefig('fit.png')"
   ]
  },
  {
   "cell_type": "code",
   "execution_count": null,
   "metadata": {},
   "outputs": [],
   "source": []
  }
 ],
 "metadata": {
  "kernelspec": {
   "display_name": "Python 3",
   "language": "python",
   "name": "python3"
  },
  "language_info": {
   "codemirror_mode": {
    "name": "ipython",
    "version": 3
   },
   "file_extension": ".py",
   "mimetype": "text/x-python",
   "name": "python",
   "nbconvert_exporter": "python",
   "pygments_lexer": "ipython3",
   "version": "3.6.4"
  }
 },
 "nbformat": 4,
 "nbformat_minor": 2
}
